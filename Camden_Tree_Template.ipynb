{
 "cells": [
  {
   "cell_type": "markdown",
   "id": "38bcec7a-f9ab-48e8-9553-e9ded639a576",
   "metadata": {},
   "source": [
    "# Trees in Camden\n",
    "Use this notebook to complete your analysis.\n",
    "Enter code and comments after the TODOs.\n",
    "\n",
    "There are some code cells completed for you.  These are highlighted with a <font style=\"color:crimson;background-color:lemonchiffon\">TODO</font> comment.  You can use these to guide the subsequent tasks.  Other cells require you to read documentation or search for answers.  The markdown comments give you links to some useful documentation and articles.  Read the documentation, look at the examples provided in the documentation and then try to apply them to your data.\n",
    "\n",
    "Remember that you can find information on the pandas functions on the Pandas website https://pandas.pydata.org/pandas-docs/stable/reference/frame.html or directly in the notebook by puttin a ? before or after the function name. for instance: `?df.head()` or `df['Maturity'].value_counts()?`"
   ]
  },
  {
   "cell_type": "markdown",
   "id": "71f2c016-f440-4601-8262-1d814315d1bb",
   "metadata": {},
   "source": [
    "## Imports\n",
    "Import the libraries we need to perform the analysis."
   ]
  },
  {
   "cell_type": "code",
   "execution_count": null,
   "id": "26c7393c-3a3f-4224-8c88-10aa58310351",
   "metadata": {},
   "outputs": [],
   "source": [
    "import pandas as pd"
   ]
  },
  {
   "cell_type": "markdown",
   "id": "ddcf618b-a928-498c-b07e-991c7eb09bb7",
   "metadata": {
    "tags": [],
    "toc-hr-collapsed": true
   },
   "source": [
    "## Task 2: Load Data and Perform Initial Exploration\n",
    "Load the data from the supplied data files.  The files are in different **file formats**, but Pandas can handle this.\n",
    "\n",
    "You should read the data in using the appropriate function:\n",
    "\n",
    "- [pandas.read_excel](https://pandas.pydata.org/pandas-docs/stable/reference/api/pandas.read_excel.html)\n",
    "- [pandas.read_csv](https://pandas.pydata.org/docs/reference/api/pandas.read_csv.html)\n",
    "- [pandas.read_json](https://pandas.pydata.org/pandas-docs/version/0.23.4/generated/pandas.read_json.html)\n",
    "\n",
    "You can then inspect the first few rows of the loaded dataframe:\n",
    "\n",
    "[pandas.DataFrame.head](https://pandas.pydata.org/docs/reference/api/pandas.DataFrame.head.html)\n",
    "\n",
    "You can get the number of rows and columns:\n",
    "\n",
    "[pandas.DataFrame.shape](https://pandas.pydata.org/pandas-docs/stable/reference/api/pandas.DataFrame.shape.html)\n",
    "\n",
    "You can get the list of column names:\n",
    "\n",
    "[pandas.DataFrame.columns](https://pandas.pydata.org/docs/reference/api/pandas.DataFrame.columns.html)\n",
    "\n",
    "And you can list the data types of the columns:\n",
    "\n",
    "[pandas.DataFrames.dtypes](https://pandas.pydata.org/pandas-docs/stable/reference/api/pandas.DataFrame.dtypes.html)\n",
    "\n",
    "I've done the first one (loading `\"camden_trees.xlsx\"`) for you.  Please load `\"camden_trees_environmental.csv\"` and `\"tree_common_names.json\"` and analyse them in the same way.\n"
   ]
  },
  {
   "cell_type": "markdown",
   "id": "be1b77e3-ef79-49da-a896-dafbc51a3e10",
   "metadata": {},
   "source": [
    "### 2.1 Trees\n",
    "The file `\"camden_trees.xlsx\"` is an Excel file, so we use the `read_excel()` function."
   ]
  },
  {
   "cell_type": "code",
   "execution_count": null,
   "id": "dcc71d80-c6e5-41fa-bdd2-8a9c1c129cc7",
   "metadata": {},
   "outputs": [],
   "source": [
    "# Create a Pandas dataframe called trees that contains the contents of the Excel file\n",
    "trees = pd.read_excel(\"camden_trees.xlsx\")"
   ]
  },
  {
   "cell_type": "markdown",
   "id": "13689979-f709-4e37-87bc-e005a9dfd0ea",
   "metadata": {},
   "source": [
    "We can now inspect the first few rows using `head()`.  By default, `head()` displays the first 5 rows."
   ]
  },
  {
   "cell_type": "code",
   "execution_count": null,
   "id": "34c737a4-0666-450f-8db3-b14fd2c2fec5",
   "metadata": {},
   "outputs": [],
   "source": [
    "# Display the first few rows\n",
    "trees.head()"
   ]
  },
  {
   "cell_type": "markdown",
   "id": "2dc1c27b-7658-41be-92f5-6d1ee07f49c0",
   "metadata": {},
   "source": [
    "It's good to understand the size of the dataset we are dealing with.  The `shape` property does this for us."
   ]
  },
  {
   "cell_type": "code",
   "execution_count": null,
   "id": "9e7f1cf1-4e79-4cdd-a6b8-0a41c16cb153",
   "metadata": {},
   "outputs": [],
   "source": [
    "# Get the number of rows and columns\n",
    "trees.shape"
   ]
  },
  {
   "cell_type": "markdown",
   "id": "d499f569-4200-48e9-b0a5-b84fc72a228a",
   "metadata": {},
   "source": [
    "If there are lots of columns we can't always see all of them in the `head()` list above.  We can use the `columns` property to get a full list:"
   ]
  },
  {
   "cell_type": "code",
   "execution_count": null,
   "id": "be4badda-f1c9-481c-a274-8251330cbc5a",
   "metadata": {},
   "outputs": [],
   "source": [
    "# Get a list of all the columns in the dataframe\n",
    "trees.columns"
   ]
  },
  {
   "cell_type": "markdown",
   "id": "7b184dfb-0498-43c0-afa7-9d4be449863a",
   "metadata": {},
   "source": [
    "In order to process the data properly, we should understand the data type for each column.  Pandas attempts to work this out for us, but sometimes we need to give it a bit of a hand.  We can use the `dtypes` property to list the data types.  Note that `object` is Pandas way of saying `string`, i.e. a text data type."
   ]
  },
  {
   "cell_type": "code",
   "execution_count": null,
   "id": "f5b603ef-9ce1-4667-a672-5a86fe9daf1a",
   "metadata": {},
   "outputs": [],
   "source": [
    "# List the data types of each column\n",
    "trees.dtypes"
   ]
  },
  {
   "cell_type": "markdown",
   "id": "722d9b40-5f9c-4362-9b46-b052b2449898",
   "metadata": {},
   "source": [
    "### 2.2 Environmental\n",
    "The file `\"camden_trees_environmental.csv\"` is a csv file.  Use the appropriate function to load it into a Pandas DataFrame."
   ]
  },
  {
   "cell_type": "markdown",
   "id": "5585e3b9-4c1c-436e-a34f-f8f19a0cbd02",
   "metadata": {},
   "source": [
    "<div style=\"background-color:lemonchiffon; border:1px solid; padding:5px; margin:5px; font-weight:bold\"><font color=\"crimson\">\n",
    "TODO: Complete the following code cells\n",
    "    </font></div>"
   ]
  },
  {
   "cell_type": "code",
   "execution_count": null,
   "id": "a12780eb-bcb5-4955-bc9b-28439ee81d22",
   "metadata": {},
   "outputs": [],
   "source": [
    "# Create a Pandas dataframe called environmental that contains the contents of the csv file\n",
    "# TODO"
   ]
  },
  {
   "cell_type": "code",
   "execution_count": null,
   "id": "4d6e254d-a3df-4004-b262-004923fdbf9a",
   "metadata": {},
   "outputs": [],
   "source": [
    "# Display the first few rows\n",
    "# TODO"
   ]
  },
  {
   "cell_type": "code",
   "execution_count": null,
   "id": "66c23391-628f-4612-936b-7f55c561fd1b",
   "metadata": {},
   "outputs": [],
   "source": [
    "# Get the number of rows and columns\n",
    "# TODO"
   ]
  },
  {
   "cell_type": "code",
   "execution_count": null,
   "id": "2ccce95e-0aec-4b3b-a961-5356606c2d60",
   "metadata": {},
   "outputs": [],
   "source": [
    "# Get a list of all the columns in the dataframe\n",
    "# TODO"
   ]
  },
  {
   "cell_type": "code",
   "execution_count": null,
   "id": "b32a0236-40fc-44d8-a0b1-d2afb3baba19",
   "metadata": {},
   "outputs": [],
   "source": [
    "# List the data types of each column\n",
    "# TODO"
   ]
  },
  {
   "cell_type": "markdown",
   "id": "35e2a8fe-944e-4ef0-b944-0a536f699455",
   "metadata": {},
   "source": [
    "<hr/>"
   ]
  },
  {
   "cell_type": "markdown",
   "id": "faa2e5f5-67d8-4382-bad0-549486826c3a",
   "metadata": {},
   "source": [
    "### 2.3 Common and Scientific Names\n",
    "The file `\"tree_common_names.json\"` is a json file.  Use the appropriate function to load it into a Pandas DataFrame."
   ]
  },
  {
   "cell_type": "markdown",
   "id": "c60ddc1e-1bc2-498b-83c8-296e182a5048",
   "metadata": {},
   "source": [
    "<div style=\"background-color:lemonchiffon; border:1px solid; padding:5px; margin:5px; font-weight:bold\"><font color=\"crimson\">\n",
    "TODO: Complete the following code cells\n",
    "    </font></div>"
   ]
  },
  {
   "cell_type": "code",
   "execution_count": null,
   "id": "9d3eef7b-123a-4e3d-8d19-5808becb2d35",
   "metadata": {},
   "outputs": [],
   "source": [
    "# Create a Pandas dataframe called names that contains the contents of the json file\n",
    "# TODO"
   ]
  },
  {
   "cell_type": "code",
   "execution_count": null,
   "id": "5d05c25c-b462-481b-b8ca-485f4b5a6cec",
   "metadata": {},
   "outputs": [],
   "source": [
    "# Display the first few rows\n",
    "# TODO"
   ]
  },
  {
   "cell_type": "code",
   "execution_count": null,
   "id": "d6b7cc1e-1ec9-4a5e-a526-23143c0702f7",
   "metadata": {},
   "outputs": [],
   "source": [
    "# Get the number of rows and columns\n",
    "# TODO"
   ]
  },
  {
   "cell_type": "code",
   "execution_count": null,
   "id": "f349e0ba-c2d0-469b-9f16-530394e85446",
   "metadata": {},
   "outputs": [],
   "source": [
    "# Get a list of all the columns in the dataframe\n",
    "# TODO"
   ]
  },
  {
   "cell_type": "code",
   "execution_count": null,
   "id": "aa722c8d-db42-4d95-85cc-eb3d87bcdc5a",
   "metadata": {},
   "outputs": [],
   "source": [
    "# List the data types of each column\n",
    "# TODO"
   ]
  },
  {
   "cell_type": "markdown",
   "id": "17473375-5a50-4709-9d87-8ba11c738dc9",
   "metadata": {},
   "source": [
    "<hr/>"
   ]
  },
  {
   "cell_type": "markdown",
   "id": "5034de69-86fd-4332-9fbd-9ce160540ded",
   "metadata": {},
   "source": [
    "### 2.4 Review\n",
    "At the end of this task you should have a good basic understanding of the contents and overall shape of the different data files.  If you don't, do back and review the outputs above."
   ]
  },
  {
   "cell_type": "markdown",
   "id": "0ba2d5d3-ad1e-4961-a2c6-c6ecd1bcc9e0",
   "metadata": {
    "tags": []
   },
   "source": [
    "## Task 3: Further Inspect the Datasets\n",
    "The initial inspection gave you a very high-level understanding of the data.  We will now drill a bit deeper and try to understand the data column-by-column.\n",
    "\n",
    "For columns with a string data type (`object` in Pandas) we have **qualitative** data.  It would be good to know how many *different* values we have in the column, what those values are and the *count* how many of each different value we have.  This will help us understand if the qualitative variable is **binary**, **nominal** or **ordinal**.\n",
    "\n",
    "For columns with a numeric data type (`int` or `float`) we have **quantitative** data.  Usually integer type variables can the thought of as **discrete** and float type variables can be thought of as **continuous**.  It would be good to know some summary descriptive statistics for these columns.   \n",
    "\n",
    "If you are unsure of what these different data classifications mean, read this:\n",
    "\n",
    "[Types of Variables](https://openclassrooms.com/en/courses/6037301-perform-an-initial-data-analysis/6051886-discover-the-four-variable-types)\n",
    "\n",
    "You can get the list of values and counts for a column using this function:\n",
    "\n",
    "[pandas.Series.value_counts](https://pandas.pydata.org/docs/reference/api/pandas.Series.value_counts.html)\n",
    "\n",
    "You can get the descriptive statistics for a DataFrame using this function:\n",
    "\n",
    "[pandas.DataFrame.describe](https://pandas.pydata.org/pandas-docs/stable/reference/api/pandas.DataFrame.describe.html)\n",
    "\n",
    "Note that Pandas may treat integer columns as floats if there are null values in the columns.  So if you see a float data type it might be worth checking the actual values to confirm if it really is a float or if it really is an int with nulls.  You can check the actual values with:\n",
    "\n",
    "[pandas.Series.unique](https://pandas.pydata.org/docs/reference/api/pandas.Series.unique.html)\n",
    "\n"
   ]
  },
  {
   "cell_type": "markdown",
   "id": "9899c07e-0430-49db-875a-6d5a629d6887",
   "metadata": {},
   "source": [
    "### 3.1 Further Inspect the Trees Dataset\n",
    "Let's start with the trees dataset.\n"
   ]
  },
  {
   "cell_type": "markdown",
   "id": "e220daf9-b12b-4d67-9253-6f61b1952e2f",
   "metadata": {},
   "source": [
    "#### 3.1.a Counts of Values for String Types Columns\n",
    "Go through each column that is a string (object) type and count the number of rows for each value in the column.  After each one, classify the data as binary, nominal or ordinal using a markdown comment.\n",
    "\n",
    "I've done the first one for you.\n"
   ]
  },
  {
   "cell_type": "markdown",
   "id": "3dd0dd30-406d-4635-888b-4157fa5e3f37",
   "metadata": {},
   "source": [
    "**Site Name**"
   ]
  },
  {
   "cell_type": "code",
   "execution_count": null,
   "id": "3a4a0915-8d0e-45a2-a919-6b9fd49160da",
   "metadata": {},
   "outputs": [],
   "source": [
    "# List of values in Site Name column and their counts\n",
    "trees[\"Site Name\"].value_counts()"
   ]
  },
  {
   "cell_type": "markdown",
   "id": "9117ae6f-8ecb-429f-9e1e-84931d1291c2",
   "metadata": {},
   "source": [
    "Site Name is **qualitative nominal**."
   ]
  },
  {
   "cell_type": "markdown",
   "id": "62f1b4ef-e76a-4464-af20-70a31385091f",
   "metadata": {},
   "source": [
    "Now do the same on the other string columns.  Use `value_counts()` and then classify as binary, ordered or unordered using a markdown comment.  As you do each one, stop and look at the values and counts and think about how the data in the column might be useful for supporting the council's initiatives.  Don't just treat this as a mechanical copy/paste task. The objective is, after all, to get really intimate with the data!"
   ]
  },
  {
   "cell_type": "markdown",
   "id": "51845db9-18f6-4373-a8fc-e19492568561",
   "metadata": {},
   "source": [
    "<div style=\"background-color:lemonchiffon; border:1px solid; padding:5px; margin:5px; font-weight:bold\"><font color=\"crimson\">\n",
    "TODO: Enter your code below.  Use one code cell per column and then add a markdown cell after each one to classify the column as in the above example.  Add as many cells as you need.\n",
    "    </font></div>"
   ]
  },
  {
   "cell_type": "code",
   "execution_count": null,
   "id": "30f79dcc-0c78-407e-9479-131db91b2400",
   "metadata": {},
   "outputs": [],
   "source": []
  },
  {
   "cell_type": "code",
   "execution_count": null,
   "id": "90a2c62b-fb2c-492d-a529-06cc6066802d",
   "metadata": {},
   "outputs": [],
   "source": []
  },
  {
   "cell_type": "code",
   "execution_count": null,
   "id": "1f38b812-f955-481d-8964-55ce58be0290",
   "metadata": {},
   "outputs": [],
   "source": []
  },
  {
   "cell_type": "code",
   "execution_count": null,
   "id": "128fc054-89ec-494f-b651-2e01a5e95442",
   "metadata": {},
   "outputs": [],
   "source": []
  },
  {
   "cell_type": "markdown",
   "id": "098f1891-aa39-4304-9845-13cf7041d27f",
   "metadata": {},
   "source": [
    "<hr/>"
   ]
  },
  {
   "cell_type": "markdown",
   "id": "65820ccc-8566-4b63-b141-7dffa8e9d067",
   "metadata": {},
   "source": [
    "#### 3.1.b Descriptive Stats for Numeric Type Columns\n",
    "Use the `describe()` function to get the descriptive stats for the numeric columns.\n",
    "\n",
    "For each column, classify the column as discrete or continuous (use the data type to guide you, but check any floats to confirm whether they are really floats or just ints with null values.  Use `pandas.Series.unique()` to check this).\n"
   ]
  },
  {
   "cell_type": "markdown",
   "id": "bef50831-d839-4dd0-833e-cabfda83cba4",
   "metadata": {},
   "source": [
    "<div style=\"background-color:lemonchiffon; border:1px solid; padding:5px; margin:5px; font-weight:bold\"><font color=\"crimson\">\n",
    "TODO: Complete the following code cells\n",
    "    </font></div>"
   ]
  },
  {
   "cell_type": "code",
   "execution_count": null,
   "id": "0f449063-a7c5-4526-a057-fd20bd17ba6f",
   "metadata": {},
   "outputs": [],
   "source": [
    "# Get the descriptive stats for the numeric columns\n",
    "# TODO"
   ]
  },
  {
   "cell_type": "code",
   "execution_count": null,
   "id": "9b793f70-5799-4eb0-aa11-4cb38f86baba",
   "metadata": {},
   "outputs": [],
   "source": [
    "# Remind ourselves of the data types\n",
    "# TODO"
   ]
  },
  {
   "cell_type": "markdown",
   "id": "f8139d4e-5890-4d4d-bf64-850c9f783710",
   "metadata": {},
   "source": [
    "<hr/>\n",
    "\n",
    "Find out if floats are really floats or ints with nulls.\n",
    "\n",
    "<div style=\"background-color:lemonchiffon; border:1px solid; padding:5px; margin:5px; font-weight:bold\"><font color=\"crimson\">\n",
    "TODO: Enter your code below.  Use one code cell per column.   Add as many cells as you need.\n",
    "    </font></div>"
   ]
  },
  {
   "cell_type": "code",
   "execution_count": null,
   "id": "d1b425fc-edd1-4bfd-9766-6bd300bd2968",
   "metadata": {},
   "outputs": [],
   "source": []
  },
  {
   "cell_type": "code",
   "execution_count": null,
   "id": "a463c666-709d-4821-b0d0-815ce6810bd9",
   "metadata": {},
   "outputs": [],
   "source": []
  },
  {
   "cell_type": "code",
   "execution_count": null,
   "id": "81ec49ca-b8dc-4c4f-ae1f-2fd3368330e8",
   "metadata": {},
   "outputs": [],
   "source": []
  },
  {
   "cell_type": "code",
   "execution_count": null,
   "id": "ece0e5ee-9b62-43b7-ae9b-1c71086736f4",
   "metadata": {},
   "outputs": [],
   "source": []
  },
  {
   "cell_type": "markdown",
   "id": "27c930e8-f1f0-45d1-851a-ac41f43fbdcd",
   "metadata": {},
   "source": [
    "\n",
    "<hr/>"
   ]
  },
  {
   "cell_type": "markdown",
   "id": "de74dc7d-a346-42ba-9def-8d07b1ef1e0c",
   "metadata": {},
   "source": [
    "Classify the columns as discrete or continuous.\n",
    "\n",
    "<div style=\"background-color:lemonchiffon; border:1px solid; padding:5px; margin:5px; font-weight:bold\"><font color=\"crimson\">\n",
    "TODO: Enter markdown below.\n",
    "</div>"
   ]
  },
  {
   "cell_type": "markdown",
   "id": "5a7931f5-fac2-4181-84d6-b4999e983057",
   "metadata": {},
   "source": [
    "\n",
    "ENTER AS MARKDOWN HERE"
   ]
  },
  {
   "cell_type": "markdown",
   "id": "4ee2e405-e35f-49d7-bcd6-00c12d31fa8d",
   "metadata": {},
   "source": [
    "<hr/>"
   ]
  },
  {
   "cell_type": "markdown",
   "id": "90c6e10d-2f2e-4003-b983-f60870b6fc1a",
   "metadata": {},
   "source": [
    "### 3.2 Further Inspect the Environmental Dataset\n",
    "Now repeat the above for the environmental dataset.\n",
    "\n",
    "#### 3.2.a Counts of Values for String Type Columns \n",
    "For each string column in the environmental dataset show the counts of the unique values."
   ]
  },
  {
   "cell_type": "markdown",
   "id": "f077e892-01db-426e-9cae-e59a6b0940be",
   "metadata": {},
   "source": [
    "<div style=\"background-color:lemonchiffon; border:1px solid; padding:5px; margin:5px; font-weight:bold\"><font color=\"crimson\">\n",
    "    TODO: Enter your code below.  Use one code cell per column and then add a markdown cell after each one to classify the column.  Add as many cells as you need.\n",
    "</font></div>"
   ]
  },
  {
   "cell_type": "code",
   "execution_count": null,
   "id": "044f2b73-aa4b-4a10-8546-e3149d39d817",
   "metadata": {},
   "outputs": [],
   "source": []
  },
  {
   "cell_type": "code",
   "execution_count": null,
   "id": "44ba9648-4ddb-4d61-b176-264bce03818c",
   "metadata": {},
   "outputs": [],
   "source": []
  },
  {
   "cell_type": "code",
   "execution_count": null,
   "id": "089c3831-ae1e-47f9-a907-45260efe3d56",
   "metadata": {},
   "outputs": [],
   "source": []
  },
  {
   "cell_type": "code",
   "execution_count": null,
   "id": "eb9ecfc7-a941-4980-8c2e-aec88871c8c0",
   "metadata": {},
   "outputs": [],
   "source": []
  },
  {
   "cell_type": "markdown",
   "id": "fa84e8d1-57aa-483b-bb38-e54a07e6aff8",
   "metadata": {},
   "source": [
    "<hr/>"
   ]
  },
  {
   "cell_type": "markdown",
   "id": "5c9ae370-ab1f-43f3-ba17-5dd062a2cbf1",
   "metadata": {},
   "source": [
    "#### 3.2.b Descriptive Stats for Numeric Type Columns\n",
    "For each numeric column in the environmental dataset show the descriptive stats"
   ]
  },
  {
   "cell_type": "markdown",
   "id": "eafafa68-7cf4-4f9d-bbe1-7513151aa727",
   "metadata": {},
   "source": [
    "<div style=\"background-color:lemonchiffon; border:1px solid; padding:5px; margin:5px; font-weight:bold\"><font color=\"crimson\">\n",
    "TODO: Complete the following code cells\n",
    "    </font></div>"
   ]
  },
  {
   "cell_type": "code",
   "execution_count": null,
   "id": "4380cd76-3b4c-4488-8b5d-b8429c747228",
   "metadata": {},
   "outputs": [],
   "source": [
    "# Get the descriptive stats for all numeric columns\n",
    "# TODO"
   ]
  },
  {
   "cell_type": "code",
   "execution_count": null,
   "id": "d0f77821-130d-4f5d-b92e-0ce89e6b3bcd",
   "metadata": {},
   "outputs": [],
   "source": [
    "# Remind ourselves of the data types\n",
    "# TODO"
   ]
  },
  {
   "cell_type": "markdown",
   "id": "eb227586-d79a-46b9-a665-854b330a4c72",
   "metadata": {},
   "source": [
    "<hr/>\n",
    "\n",
    "Find out if floats are really floats or ints with nulls.\n",
    "\n",
    "<div style=\"background-color:lemonchiffon; border:1px solid; padding:5px; margin:5px; font-weight:bold\"><font color=\"crimson\">\n",
    "TODO: Enter your code below.  Use one code cell per column.   Add as many cells as you need.\n",
    "    </font></div>"
   ]
  },
  {
   "cell_type": "code",
   "execution_count": null,
   "id": "20d9ddc5-3be9-4836-bc1a-5974d9b6b6b8",
   "metadata": {},
   "outputs": [],
   "source": []
  },
  {
   "cell_type": "code",
   "execution_count": null,
   "id": "0ac2cda7-cc1c-4a51-935e-033958ee9072",
   "metadata": {},
   "outputs": [],
   "source": []
  },
  {
   "cell_type": "code",
   "execution_count": null,
   "id": "5503930d-debf-40d0-b845-e00adc7ac40b",
   "metadata": {},
   "outputs": [],
   "source": []
  },
  {
   "cell_type": "code",
   "execution_count": null,
   "id": "2a1ad19d-b9d9-4752-a876-c39121829f22",
   "metadata": {},
   "outputs": [],
   "source": []
  },
  {
   "cell_type": "markdown",
   "id": "6d550cf1-defa-4c65-9fcf-7d334a0c8899",
   "metadata": {},
   "source": [
    "<hr/>"
   ]
  },
  {
   "cell_type": "markdown",
   "id": "8bda5350-317b-43c1-91b1-71aeedf06ed3",
   "metadata": {},
   "source": [
    "\n",
    "Classify the columns as discrete or continuous.\n",
    "\n",
    "<div style=\"background-color:lemonchiffon; border:1px solid; padding:5px; margin:5px; font-weight:bold\"><font color=\"crimson\">\n",
    "TODO: Enter markdown below.\n",
    "    </font></div>\n"
   ]
  },
  {
   "cell_type": "markdown",
   "id": "e90ac26a-3015-491c-9c5d-a0d1b47c1f94",
   "metadata": {},
   "source": [
    "ENTER MARKDOWN HERE"
   ]
  },
  {
   "cell_type": "markdown",
   "id": "1467aacd-ee75-46c9-b1d9-753c78869723",
   "metadata": {},
   "source": [
    "<hr/>"
   ]
  },
  {
   "cell_type": "markdown",
   "id": "5edacbd1-2ef6-4719-acc7-2d8f630d4195",
   "metadata": {},
   "source": [
    "### 3.3 Further Inspect the Common Names Dataset\n",
    "Now repeat the above for the common names dataset.\n",
    "\n",
    "#### 3.3.a (Names) Counts of Values for String Type Columns \n",
    "For each string column in the common names dataset show the counts of the unique values.\n",
    "\n",
    "<div style=\"background-color:lemonchiffon; border:1px solid; padding:5px; margin:5px; font-weight:bold\"><font color=\"crimson\">\n",
    "<font color=\"crimson\">TODO: Enter your code below.  Use one code cell per column and then add a markdown cell after each one to classify the column.  Add as many cells as you need.</font>\n",
    "    </font></div>\n"
   ]
  },
  {
   "cell_type": "code",
   "execution_count": null,
   "id": "0c83c5e3-e84a-4e29-a05c-2c10b7d5dfb0",
   "metadata": {},
   "outputs": [],
   "source": []
  },
  {
   "cell_type": "code",
   "execution_count": null,
   "id": "ca5c98b7-a9c5-4ece-bb76-ed03a804525e",
   "metadata": {},
   "outputs": [],
   "source": []
  },
  {
   "cell_type": "code",
   "execution_count": null,
   "id": "6e144307-026e-45ee-b0d2-025b7b5f3d9c",
   "metadata": {},
   "outputs": [],
   "source": []
  },
  {
   "cell_type": "code",
   "execution_count": null,
   "id": "ff3758f5-ac62-45b0-a326-baa98b0a5625",
   "metadata": {},
   "outputs": [],
   "source": []
  },
  {
   "cell_type": "markdown",
   "id": "2778e230-5042-42eb-b51a-022a1c9710cc",
   "metadata": {},
   "source": [
    "<hr/>\n"
   ]
  },
  {
   "cell_type": "markdown",
   "id": "8b9a614c-0c3f-41f1-9b30-7259bcb3a2d3",
   "metadata": {},
   "source": [
    "#### 3.3.b (Names) Descriptive Stats for Numeric Type Columns\n",
    "There are no numeric columns."
   ]
  },
  {
   "cell_type": "markdown",
   "id": "8641574f-7ee8-4cac-98d9-4c33a54891af",
   "metadata": {
    "tags": []
   },
   "source": [
    "## Task 4: Identify Missing Values\n",
    "Find the number of missing values in each column.  Missing values can indicate data quality issues.  Missing are nulls in our data.  But sometimes zero values indicate missing values.  For example, a zero value for a tree height is clearly not a valid valid, so should be considered missing.\n",
    "\n",
    "Use these functions to find rows that have missing and zero values:\n",
    "\n",
    "- [pandas.DataFrame.isnull](https://pandas.pydata.org/docs/reference/api/pandas.DataFrame.isnull.html)\n",
    "- [pandas.DataFrame.isin](https://pandas.pydata.org/docs/reference/api/pandas.DataFrame.isin.html)\n",
    "- [pandas.DataFrame.mean](https://pandas.pydata.org/pandas-docs/stable/reference/api/pandas.DataFrame.mean.html)\n",
    "- [pandas.DataFrame.sum](https://pandas.pydata.org/docs/reference/api/pandas.DataFrame.sum.html)\n",
    "\n",
    "As you go through this task, think about the possible impact of the missing values on the ability of the data to deliver on the council's initiatives.  There is no absolute answer to \"how many missing values is too many\".  It depends on the context of what you intend to do with the data.  Try to make an interpretation based on your understanding of the requirements."
   ]
  },
  {
   "cell_type": "markdown",
   "id": "5ee7f2e0-20bf-4249-9f5d-57ab6cc0fa30",
   "metadata": {},
   "source": [
    "### 4.1 Missing Values for the Trees Dataset\n",
    "I've shown you how to do this for the trees dataset."
   ]
  },
  {
   "cell_type": "code",
   "execution_count": null,
   "id": "0bd1e712-9211-44f8-a22c-fb1df46c1961",
   "metadata": {},
   "outputs": [],
   "source": [
    "# Percentage of null values\n",
    "trees.isnull().mean()*100"
   ]
  },
  {
   "cell_type": "code",
   "execution_count": null,
   "id": "afbf5093-5716-440a-8f89-eeb6a5d66662",
   "metadata": {},
   "outputs": [],
   "source": [
    "# Number of null values\n",
    "trees.isnull().sum()"
   ]
  },
  {
   "cell_type": "code",
   "execution_count": null,
   "id": "cde99d54-297d-41d8-954d-94ba2e08a2c5",
   "metadata": {},
   "outputs": [],
   "source": [
    "# Percentage of zero values\n",
    "trees.isin([0]).mean()*100"
   ]
  },
  {
   "cell_type": "code",
   "execution_count": null,
   "id": "d0947b5d-8978-46d8-8d57-252d29c25ca8",
   "metadata": {},
   "outputs": [],
   "source": [
    "# Number of zero values\n",
    "trees.isin([0]).sum()"
   ]
  },
  {
   "cell_type": "code",
   "execution_count": null,
   "id": "de03ea2b-8ea2-48ff-b620-d9fd16290c7b",
   "metadata": {},
   "outputs": [],
   "source": [
    "# Percentage of null and zero values\n",
    "(trees.isnull().sum() + trees.isin([0]).sum())/trees.shape[0]"
   ]
  },
  {
   "cell_type": "code",
   "execution_count": null,
   "id": "f43e38e0-00c6-4ebd-9899-8f91557becb7",
   "metadata": {},
   "outputs": [],
   "source": [
    "# Number of null and zero values\n",
    "(trees.isnull().sum() + trees.isin([0]).sum())"
   ]
  },
  {
   "cell_type": "markdown",
   "id": "a7416001-4d63-4bd5-9bea-2412d322ed88",
   "metadata": {},
   "source": [
    "### 4.2 Missing Values for the Environmental Dataset\n",
    "Now repeat the missing values check for the environmental dataset.\n",
    "\n",
    "<div style=\"background-color:lemonchiffon; border:1px solid; padding:5px; margin:5px; font-weight:bold\"><font color=\"crimson\">\n",
    "TODO: Complete the following code cells\n",
    "    </font></div>"
   ]
  },
  {
   "cell_type": "code",
   "execution_count": null,
   "id": "45971fda-0b80-4652-bc63-ed8baeaad087",
   "metadata": {},
   "outputs": [],
   "source": [
    "# Percentage of null values\n",
    "# TODO"
   ]
  },
  {
   "cell_type": "code",
   "execution_count": null,
   "id": "35471141-aca6-453d-afc8-babde8975f14",
   "metadata": {},
   "outputs": [],
   "source": [
    "# Number of null values\n",
    "# TODO"
   ]
  },
  {
   "cell_type": "code",
   "execution_count": null,
   "id": "333f86d0-8443-48b5-ba17-6bb91cfd1190",
   "metadata": {},
   "outputs": [],
   "source": [
    "# Percentage of zero values\n",
    "# TODO"
   ]
  },
  {
   "cell_type": "code",
   "execution_count": null,
   "id": "809d3c20-113f-4665-b18d-cbdaa07b613c",
   "metadata": {},
   "outputs": [],
   "source": [
    "# Number of zero values\n",
    "# TODO"
   ]
  },
  {
   "cell_type": "code",
   "execution_count": null,
   "id": "bbada47a-e7aa-43be-bfca-624feda60cb7",
   "metadata": {},
   "outputs": [],
   "source": [
    "# Percentage of null and zero values\n",
    "# TODO"
   ]
  },
  {
   "cell_type": "code",
   "execution_count": null,
   "id": "27dcd851-d4a3-4014-9167-9330c033738d",
   "metadata": {},
   "outputs": [],
   "source": [
    "# Number of null and zero values\n",
    "# TODO"
   ]
  },
  {
   "cell_type": "markdown",
   "id": "cc5e09d4-fc27-454c-8462-f918e46a241e",
   "metadata": {},
   "source": [
    "<hr/>"
   ]
  },
  {
   "cell_type": "markdown",
   "id": "86bc5c0f-498e-47f1-b993-5ae66b325fc1",
   "metadata": {},
   "source": [
    "### 4.3 Missing Values for the Common Names Dataset\n",
    "Now repeat the missing values check for the common names dataset.\n",
    "\n",
    "<div style=\"background-color:lemonchiffon; border:1px solid; padding:5px; margin:5px; font-weight:bold\"><font color=\"crimson\">\n",
    "TODO: Enter your code below.  Add as many cells as you need.\n",
    "    </font></div>"
   ]
  },
  {
   "cell_type": "code",
   "execution_count": null,
   "id": "84581b31-98a4-4b20-a7b3-af1685cf0131",
   "metadata": {},
   "outputs": [],
   "source": []
  },
  {
   "cell_type": "code",
   "execution_count": null,
   "id": "b881b1d4-661d-46f6-943a-a5037f98facb",
   "metadata": {},
   "outputs": [],
   "source": []
  },
  {
   "cell_type": "markdown",
   "id": "fe30f689-88b0-4526-abae-1e19a320acf9",
   "metadata": {},
   "source": [
    "<hr/>\n",
    "\n",
    "### 4.4 Observations\n",
    "\n",
    "<div style=\"background-color:lemonchiffon; border:1px solid; padding:5px; margin:5px; font-weight:bold\"><font color=\"crimson\">\n",
    "TODO: Write down your observation about the state of missing values below and comment on the extent to which this might impact the ability to deliver on the council's initiatives.\n",
    "    </font></div>\n"
   ]
  },
  {
   "cell_type": "markdown",
   "id": "ec7ce6ee-8fd6-446a-a63a-08babd1e0390",
   "metadata": {},
   "source": [
    "ENTER MARKDOWN HERE"
   ]
  },
  {
   "cell_type": "markdown",
   "id": "a4094437-06e3-4376-9c94-14e30a910c36",
   "metadata": {},
   "source": [
    "\n",
    "<hr/>"
   ]
  },
  {
   "cell_type": "markdown",
   "id": "33d42c68-e660-4892-b2de-0552a062c7ff",
   "metadata": {
    "tags": []
   },
   "source": [
    "## Task 5: Identify Outliers in the Trees Dimensions\n",
    "Outliers are values that are so unusual they are possibly incorrect!  We can use a boxplot to show the spread of data and any outliers.  Read the following section if you are unfamiliar with them:\n",
    "\n",
    "- [Box plots](https://openclassrooms.com/en/courses/6037301-perform-an-initial-data-analysis/6052306-calculate-the-value-spread-in-your-data#/id/r-6133902)\n",
    "\n",
    "Any circles represent what the boxplot considers outliers, but some of these might just be correct but extreme values.  We want to only highlight really *crazy* values which are clearly incorrect.\n",
    "\n",
    "We can use this function to draw boxplots:\n",
    "\n",
    "- [pandas.DataFrame.boxplot](https://pandas.pydata.org/pandas-docs/stable/reference/api/pandas.DataFrame.plot.html)\n",
    "\n",
    "Once we have found if there are outliers, it would be nice to show the rows containing the outliers.  The technique for filtering Pandas DataFrames is described here:\n",
    "\n",
    "- [Filtering Pandas DataFrames](https://pandas.pydata.org/pandas-docs/stable/getting_started/intro_tutorials/03_subset_data.html)\n",
    "\n",
    "The filtering technique creates a mask of rows that we want to select, e.g:\n",
    "\n",
    "`mask = df['mycolumn'] > 500`\n",
    "\n",
    "and then uses the mask to select rows:\n",
    "\n",
    "`df[mask]`\n",
    "\n",
    "Note that there is no absolute definition of what \"crazy\" means here.  You will need to make some judgements based on your understanding of the world (or specifically the world of trees in Camden!)."
   ]
  },
  {
   "cell_type": "markdown",
   "id": "52de8466-d0ed-4c29-af9a-bf7c79b80c09",
   "metadata": {},
   "source": [
    "### 5.1 Outliers for Height\n",
    "Find the outliers in the tree height column.\n",
    "<div style=\"background-color:lemonchiffon; border:1px solid; padding:5px; margin:5px; font-weight:bold\"><font color=\"crimson\">\n",
    "TODO: Complete the following code cells\n",
    "    </font></div>"
   ]
  },
  {
   "cell_type": "code",
   "execution_count": null,
   "id": "ecaa87b9-9558-4fd6-8383-3a8046d26a5c",
   "metadata": {},
   "outputs": [],
   "source": [
    "# Use a boxplot to find the outliers\n",
    "# TODO"
   ]
  },
  {
   "cell_type": "code",
   "execution_count": null,
   "id": "7a614957-0a50-41f2-bebd-ca48e3660674",
   "metadata": {},
   "outputs": [],
   "source": [
    "# Select the crazy outlier rows\n",
    "# TODO"
   ]
  },
  {
   "cell_type": "markdown",
   "id": "c3e7ff2b-b69c-4095-a20d-bd6d2df1e68a",
   "metadata": {},
   "source": [
    "<hr/>"
   ]
  },
  {
   "cell_type": "markdown",
   "id": "f4d3025c-4a29-42e3-8821-8df2d8daa5e0",
   "metadata": {},
   "source": [
    "### 5.2 Outliers for Spread\n",
    "Now repeat the analysis for spread.\n",
    "<div style=\"background-color:lemonchiffon; border:1px solid; padding:5px; margin:5px; font-weight:bold\"><font color=\"crimson\">\n",
    "TODO: Complete the following code cells\n",
    "    </font></div>"
   ]
  },
  {
   "cell_type": "code",
   "execution_count": null,
   "id": "ce6760cf-78d0-465d-b4a3-f199596983fa",
   "metadata": {},
   "outputs": [],
   "source": [
    "# Use a boxplot to find the outliers\n",
    "# TODO"
   ]
  },
  {
   "cell_type": "code",
   "execution_count": null,
   "id": "6ab3697f-02f9-4e35-acd7-520ac7a1aa83",
   "metadata": {},
   "outputs": [],
   "source": [
    "# Select the crazy outlier rows (if any)\n",
    "# TODO"
   ]
  },
  {
   "cell_type": "markdown",
   "id": "70810045-0b5e-4dfe-bba1-fe6b0c2ea8d0",
   "metadata": {},
   "source": [
    "<hr/>"
   ]
  },
  {
   "cell_type": "markdown",
   "id": "cc0982a2-f528-49ee-ae07-6d611cb4c564",
   "metadata": {},
   "source": [
    "### 5.3 Outliers for Diameter\n",
    "Now repeat the analysis for diameter.\n",
    "<div style=\"background-color:lemonchiffon; border:1px solid; padding:5px; margin:5px; font-weight:bold\"><font color=\"crimson\">\n",
    "TODO: Complete the following code cells\n",
    "    </font></div>"
   ]
  },
  {
   "cell_type": "code",
   "execution_count": null,
   "id": "f09b82f0-44c7-4b2c-b7d6-7b1059f8e424",
   "metadata": {},
   "outputs": [],
   "source": [
    "# Use a boxplot to find the outliers\n",
    "# TODO"
   ]
  },
  {
   "cell_type": "code",
   "execution_count": null,
   "id": "6299642f-bf98-43da-a7bc-2880c88c002e",
   "metadata": {},
   "outputs": [],
   "source": [
    "# Select the outlier rows (if any)\n",
    "# TODO"
   ]
  },
  {
   "cell_type": "markdown",
   "id": "19fb2357-f25f-4840-b4a7-5a016256ff28",
   "metadata": {},
   "source": [
    "<hr/>\n",
    "\n",
    "### 5.4 Observations\n",
    "\n",
    "<div style=\"background-color:lemonchiffon; border:1px solid; padding:5px; margin:5px; font-weight:bold\"><font color=\"crimson\">\n",
    "TODO: Write down your observation about outliers in the data.  What assumptions did you make?  Were you comfortable making these assumptions?\n",
    "    </font></div>\n"
   ]
  },
  {
   "cell_type": "markdown",
   "id": "12f67262-3fe4-4238-8e6f-e04382b8594d",
   "metadata": {},
   "source": [
    "ENTER MARKDOWN HERE"
   ]
  },
  {
   "cell_type": "markdown",
   "id": "bd36393a-8904-4be8-affe-1a99e5d4e69f",
   "metadata": {},
   "source": [
    "<hr/>"
   ]
  },
  {
   "cell_type": "markdown",
   "id": "a433b035-abc4-4ce2-b86e-484e698bd941",
   "metadata": {},
   "source": [
    "## Task 6: Identify Duplicates in the Trees Dataset\n",
    "Sometimes data has duplicate entries.  This is another sign of data quality issues!\n",
    "\n",
    "### 6.1 Find Duplicate Rows\n",
    "\n",
    "In our dataset the `Identifier` column should be unique.  Find out if it is!  We've already used a function that can count how many times each value in a column exists.  Use is to see if we have duplicates in the trees Dataframe.\n",
    "\n",
    "<div style=\"background-color:lemonchiffon; border:1px solid; padding:5px; margin:5px; font-weight:bold\"><font color=\"crimson\">\n",
    "TODO: Complete the following code cells\n",
    "    </font></div>"
   ]
  },
  {
   "cell_type": "code",
   "execution_count": null,
   "id": "a40454f4-03e9-43b3-a0d8-6fcb756ba90b",
   "metadata": {},
   "outputs": [],
   "source": [
    "# Find out if we have any duplicates\n",
    "# TODO"
   ]
  },
  {
   "cell_type": "markdown",
   "id": "787be537-4f13-466e-9a65-108d93563fc8",
   "metadata": {},
   "source": [
    "Now see if you can select the rows from trees DataFrame that are duplicates.  You will need to use the output from the cell above and use it to filter the trees dataframe."
   ]
  },
  {
   "cell_type": "code",
   "execution_count": null,
   "id": "3d2fbdbf-c839-4e84-ad7c-add0f4fa31ef",
   "metadata": {},
   "outputs": [],
   "source": [
    "# Select the rows that are duplicated\n",
    "# TODO"
   ]
  },
  {
   "cell_type": "markdown",
   "id": "a74e447b-7ae5-43f3-a189-94c066fe6fc0",
   "metadata": {},
   "source": [
    "<hr/>\n",
    "\n",
    "### 6.2 Observations\n",
    "\n",
    "<div style=\"background-color:lemonchiffon; border:1px solid; padding:5px; margin:5px; font-weight:bold\"><font color=\"crimson\">\n",
    "TODO: Write down your observations about duplicates in trees.\n",
    "    </font></div>\n"
   ]
  },
  {
   "cell_type": "markdown",
   "id": "7aaa910b-ccc4-4f78-80cd-467b683fe2e1",
   "metadata": {},
   "source": [
    "ENTER MARKDOWN HERE"
   ]
  },
  {
   "cell_type": "markdown",
   "id": "d0f41ea4-112c-4ea9-96a5-ca76e4b972b3",
   "metadata": {},
   "source": [
    "<hr/>"
   ]
  },
  {
   "cell_type": "markdown",
   "id": "59990f3e-6f73-46ee-8644-2dc503baa93a",
   "metadata": {},
   "source": [
    "## Task 7: Identify Geolocation Issues\n",
    "The geographic coordinates (Easting and Northing) can be used to plot the trees on a map.  We can use this approach to see if there are any unusual tree locations!\n",
    "\n",
    "We will make a copy of the original trees dataset and remove any rows that have a missing easting or northing as these can't be plotted on the map.\n",
    "\n",
    "We can copy the DataFrame using:\n",
    "\n",
    "- [pandas.DataFrame.copy](https://pandas.pydata.org/pandas-docs/stable/reference/api/pandas.DataFrame.copy.html)\n",
    "\n",
    "We can use the DataFrame filtering technique we saw before to remove the missing values.  E.g. the following code filters out rows where the value for 'mycolumn' is 100:\n",
    "\n",
    "    mask = df['mycolumn'] != 100\n",
    "    df = df[mask]\n",
    "\n",
    "You can also create masks using a function, e.g. this creates a mask which excludes nulls:\n",
    "\n",
    "    mask = df['mycolumn'].isnull()\n",
    "\n",
    "We can use this function to plot the trees on a map. Set x to \"Easting\" and y to \"Northing\" and set a figsize parameter to (6, 6) to get a square aspect ratio:\n",
    "\n",
    "- [pandas.DataFrame.plot.scatter](https://pandas.pydata.org/pandas-docs/version/0.25.0/reference/api/pandas.DataFrame.plot.scatter.html)\n",
    "\n",
    "\n"
   ]
  },
  {
   "cell_type": "markdown",
   "id": "0bdaf281-68a3-43d4-abb6-f3c42a088f7f",
   "metadata": {},
   "source": [
    "### 7.1 Remove Trees with Missing Geo-coordinates\n",
    "Check if there are any rows with null or 0 geo-coordinates.  If there are, remove them as we can't plot these.\n",
    "\n",
    "<div style=\"background-color:lemonchiffon; border:1px solid; padding:5px; margin:5px; font-weight:bold\"><font color=\"crimson\">\n",
    "TODO: Complete the following code cells\n",
    "    </font></div>"
   ]
  },
  {
   "cell_type": "code",
   "execution_count": null,
   "id": "913c1d69-b105-44aa-be2f-73b537313c6e",
   "metadata": {},
   "outputs": [],
   "source": [
    "# Make a copy of the trees\n",
    "geotrees = trees.copy()"
   ]
  },
  {
   "cell_type": "code",
   "execution_count": null,
   "id": "3a9b5bf6-bda3-472f-9796-060023cff4e8",
   "metadata": {},
   "outputs": [],
   "source": [
    "# Remove null Eastings\n",
    "# TODO"
   ]
  },
  {
   "cell_type": "code",
   "execution_count": null,
   "id": "7f77324a-f2e4-4d69-a0fe-1d71757c6f6e",
   "metadata": {},
   "outputs": [],
   "source": [
    "# Remove 0 Eastings.  \n",
    "# TODO"
   ]
  },
  {
   "cell_type": "code",
   "execution_count": null,
   "id": "40ccb789-0cab-4218-9caa-e7e08b2b71ae",
   "metadata": {},
   "outputs": [],
   "source": [
    "# Remove null Northings\n",
    "# TODO"
   ]
  },
  {
   "cell_type": "code",
   "execution_count": null,
   "id": "c77858c5-99e7-4f1f-affa-bd2370b9aed8",
   "metadata": {},
   "outputs": [],
   "source": [
    "# Remove 0 Northings.  \n",
    "# TODO"
   ]
  },
  {
   "cell_type": "code",
   "execution_count": null,
   "id": "616a5473-5d71-486a-9ea0-c401fc7f4428",
   "metadata": {},
   "outputs": [],
   "source": [
    "# Confirm how many rows we have\n",
    "# TODO"
   ]
  },
  {
   "cell_type": "markdown",
   "id": "a63dbcfc-e781-4812-9a10-1cf5be028dae",
   "metadata": {},
   "source": [
    "<hr/>"
   ]
  },
  {
   "cell_type": "markdown",
   "id": "d1e84a3c-7eed-408a-a724-3944d89e0755",
   "metadata": {},
   "source": [
    "### 7.2 Plot Map of Trees\n",
    "Now make the plot.  Do a scatter plot of Northing vs Easting. You should obtain an outline of the map of Camden. Compare that outline with a real map of Camden (use good old google maps!). You’ll be able to spot the trees that should not be in that dataset from there!\n",
    "\n",
    "<div style=\"background-color:lemonchiffon; border:1px solid; padding:5px; margin:5px; font-weight:bold\"><font color=\"crimson\">\n",
    "TODO: Complete the following code cell\n",
    "    </font></div>"
   ]
  },
  {
   "cell_type": "code",
   "execution_count": null,
   "id": "b51e227f-bd09-4064-9f60-be766962646d",
   "metadata": {},
   "outputs": [],
   "source": [
    "# Plot the trees on a map\n",
    "# TODO"
   ]
  },
  {
   "cell_type": "markdown",
   "id": "6914e59e-aaeb-4b9b-8a84-b4007e2ad747",
   "metadata": {},
   "source": [
    "### 7.3 Find Trees Outside Camden\n",
    "From the scatter plot, you should be able to determine how to select the rows from the trees data set containing the offending trees (using the Easting and Northing values)\n",
    "\n",
    "Select the rows containing trees outside of Camden.  Use the filter technique again.\n",
    "\n",
    "<div style=\"background-color:lemonchiffon; border:1px solid; padding:5px; margin:5px; font-weight:bold\"><font color=\"crimson\">\n",
    "TODO: Complete the following code cells\n",
    "    </font></div>"
   ]
  },
  {
   "cell_type": "code",
   "execution_count": null,
   "id": "4b992a8f-d5be-4adb-a383-4f8e5505b2ed",
   "metadata": {},
   "outputs": [],
   "source": [
    "# Select the outlier rows\n",
    "# TODO"
   ]
  },
  {
   "cell_type": "code",
   "execution_count": null,
   "id": "0270dae9-9bcf-4b63-95cf-13b7c5184424",
   "metadata": {},
   "outputs": [],
   "source": [
    "# Confirm how many rows we have\n",
    "# TODO"
   ]
  },
  {
   "cell_type": "markdown",
   "id": "ee3f0cff-17bb-4f75-a92c-876c56e230c5",
   "metadata": {},
   "source": [
    "<hr/>\n",
    "\n",
    "### 7.4 Observations\n",
    "\n",
    "\n",
    "<div style=\"background-color:lemonchiffon; border:1px solid; padding:5px; margin:5px; font-weight:bold\"><font color=\"crimson\">\n",
    "TODO: Write down your observation about geolocation issues.\n",
    "    </font></div>\n"
   ]
  },
  {
   "cell_type": "markdown",
   "id": "3f5a1605-de7e-4cb7-8190-c643122c104e",
   "metadata": {},
   "source": [
    "ENTER MARKDOWN HERE"
   ]
  },
  {
   "cell_type": "markdown",
   "id": "0680cf79-2a3a-4e9c-8332-609680b69040",
   "metadata": {},
   "source": [
    "<hr/>"
   ]
  },
  {
   "cell_type": "markdown",
   "id": "2c6f941f-e14a-4a51-aa29-66010910009a",
   "metadata": {
    "tags": []
   },
   "source": [
    "## Task 8: Identify Unmatched Data\n",
    "We have multiple datasets that will need to be joined together to produce the analyses required by the Camden Parks and Open Spaces team.  The data will need to be joined in the following way:\n",
    "\n",
    "- Use the `Identifier` column in the trees dataset to match to the `Identifier` column in the environmental data set (so we can bring in the environmental data for each tree)\n",
    "- Use the `Scientific Name` column in the trees dataset to match to the `Scientific Name` column in the common names data set (so we can look up the `Common Name`)\n",
    "\n",
    "There may be mismatches in the data.  Of particular concern we want to check\n",
    "\n",
    "- That every tree in the trees dataset has matching environmental data in the environmental data set\n",
    "- That every environmental row in the environmental dataset has matching tree data in the tree data set\n",
    "- That every scientific name in the trees dataset has a matching common name in the common names data set\n",
    "\n",
    "We aren't too concerned about the reverse of the last scenario (if we have extra names in the common names dataset that aren't in the trees data set).  We don't expect Camden to have a specimen of every tree that exists!  \n",
    "\n",
    "There are a few ways this can be done, but one technique is to use the `isin` function to check if some column in one dataframe contains values that are in another column in another dataframe.  This creates a mask containing rows that match between the two dataframes:\n",
    "\n",
    "    mask = df1['column_name1'].isin(df2['column_name2'])\n",
    "    \n",
    "To select the non-matching rows, we can use Python's bitwise not operator ~:\n",
    "\n",
    "    mask = ~df1['column_name1'].isin(df2['column_name2'])\n",
    "    \n",
    "As we have seen before, the mask can be used to select that subset of rows back from the original dataframe."
   ]
  },
  {
   "cell_type": "markdown",
   "id": "1f5064f7-e956-4420-b80c-f14c2d2d3427",
   "metadata": {},
   "source": [
    "### 8.1 Find Trees that Don't have Matching Environmental Data\n",
    "<div style=\"background-color:lemonchiffon; border:1px solid; padding:5px; margin:5px; font-weight:bold\"><font color=\"crimson\">\n",
    "TODO: Complete the following code cells\n",
    "    </font></div>"
   ]
  },
  {
   "cell_type": "code",
   "execution_count": null,
   "id": "ec5e5506-1c6f-4f33-92d1-420ea57b6da5",
   "metadata": {},
   "outputs": [],
   "source": [
    "# Find trees that don't have matching environmental data\n",
    "# TODO"
   ]
  },
  {
   "cell_type": "code",
   "execution_count": null,
   "id": "36cabc0b-2d67-4a8d-8d85-6d3d3b40acfb",
   "metadata": {},
   "outputs": [],
   "source": [
    "# Confirm how many rows we have\n",
    "# TODO"
   ]
  },
  {
   "cell_type": "markdown",
   "id": "163e0301-fae2-41cc-a7a7-11a31b9e0499",
   "metadata": {},
   "source": [
    "### 8.2 Find Environmental Data that Doesn't have Matching Tree Data\n",
    "<div style=\"background-color:lemonchiffon; border:1px solid; padding:5px; margin:5px; font-weight:bold\"><font color=\"crimson\">\n",
    "TODO: Complete the following code cells\n",
    "    </font></div>"
   ]
  },
  {
   "cell_type": "code",
   "execution_count": null,
   "id": "17727576-c7c3-487a-87d1-d27d326f661c",
   "metadata": {},
   "outputs": [],
   "source": [
    "# Find environmental data that doesn't have matching tree data\n",
    "# TODO"
   ]
  },
  {
   "cell_type": "code",
   "execution_count": null,
   "id": "7c562a4f-6a70-4e53-8dc5-c2ebd3a1417f",
   "metadata": {},
   "outputs": [],
   "source": [
    "# Confirm how many rows we have\n",
    "# TODO"
   ]
  },
  {
   "cell_type": "markdown",
   "id": "ce4445b4-53db-4d95-82b6-4af1088046bf",
   "metadata": {},
   "source": [
    "### 8.3 Find Trees that Don't have Matching Common Names Data\n",
    "<div style=\"background-color:lemonchiffon; border:1px solid; padding:5px; margin:5px; font-weight:bold\"><font color=\"crimson\">\n",
    "TODO: Complete the following code cells\n",
    "    </font></div>"
   ]
  },
  {
   "cell_type": "code",
   "execution_count": null,
   "id": "f66f9bfd-6bfc-4faf-946e-d5d8f6cbb4b6",
   "metadata": {},
   "outputs": [],
   "source": [
    "# Find trees with scientific names that don't have matching common names data\n",
    "# TODO"
   ]
  },
  {
   "cell_type": "code",
   "execution_count": null,
   "id": "183f5951-2c4e-486a-beb9-68abc8be8674",
   "metadata": {},
   "outputs": [],
   "source": [
    "# Confirm how many rows we have\n",
    "# TODO"
   ]
  },
  {
   "cell_type": "markdown",
   "id": "28a9ce1a-e0d6-42b2-b83a-bfb1c1a21f75",
   "metadata": {},
   "source": [
    "<hr/>\n",
    "\n",
    "### 8.4 Observations\n",
    "\n",
    "<div style=\"background-color:lemonchiffon; border:1px solid; padding:5px; margin:5px; font-weight:bold\"><font color=\"crimson\">\n",
    "TODO: Write down your observation about unmatched data issues.\n",
    "    </font></div>\n"
   ]
  },
  {
   "cell_type": "markdown",
   "id": "80b550e2-3d7e-44af-990a-cc59b070c269",
   "metadata": {},
   "source": [
    "ENTER MARKDOWN HERE"
   ]
  },
  {
   "cell_type": "markdown",
   "id": "663f0130-1aee-4590-b6d3-ddc531035415",
   "metadata": {},
   "source": [
    "<hr/>"
   ]
  },
  {
   "cell_type": "markdown",
   "id": "ecb4c78f-147a-4cb7-b646-1de2d365c5e5",
   "metadata": {},
   "source": [
    "# END OF NOTEBOOK"
   ]
  },
  {
   "cell_type": "code",
   "execution_count": null,
   "id": "23027640-3750-4ea5-9057-e81626698bdb",
   "metadata": {},
   "outputs": [],
   "source": []
  }
 ],
 "metadata": {
  "kernelspec": {
   "display_name": "Python 3 (ipykernel)",
   "language": "python",
   "name": "python3"
  },
  "language_info": {
   "codemirror_mode": {
    "name": "ipython",
    "version": 3
   },
   "file_extension": ".py",
   "mimetype": "text/x-python",
   "name": "python",
   "nbconvert_exporter": "python",
   "pygments_lexer": "ipython3",
   "version": "3.9.7"
  }
 },
 "nbformat": 4,
 "nbformat_minor": 5
}
